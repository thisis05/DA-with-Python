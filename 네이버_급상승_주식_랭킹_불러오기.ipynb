{
  "nbformat": 4,
  "nbformat_minor": 0,
  "metadata": {
    "colab": {
      "provenance": [],
      "authorship_tag": "ABX9TyNUjVcKqhDMSl1fAPX3U5N5",
      "include_colab_link": true
    },
    "kernelspec": {
      "name": "python3",
      "display_name": "Python 3"
    },
    "language_info": {
      "name": "python"
    }
  },
  "cells": [
    {
      "cell_type": "markdown",
      "metadata": {
        "id": "view-in-github",
        "colab_type": "text"
      },
      "source": [
        "<a href=\"https://colab.research.google.com/github/thisis05/DA-with-Python/blob/Web-Scraping/%EB%84%A4%EC%9D%B4%EB%B2%84_%EA%B8%89%EC%83%81%EC%8A%B9_%EC%A3%BC%EC%8B%9D_%EB%9E%AD%ED%82%B9_%EB%B6%88%EB%9F%AC%EC%98%A4%EA%B8%B0.ipynb\" target=\"_parent\"><img src=\"https://colab.research.google.com/assets/colab-badge.svg\" alt=\"Open In Colab\"/></a>"
      ]
    },
    {
      "cell_type": "code",
      "execution_count": null,
      "metadata": {
        "colab": {
          "base_uri": "https://localhost:8080/"
        },
        "id": "6Wb0iWBlZENb",
        "outputId": "b41743af-6fc1-47a3-fed3-4e40a5d83f62"
      },
      "outputs": [
        {
          "output_type": "stream",
          "name": "stdout",
          "text": [
            "Looking in indexes: https://pypi.org/simple, https://us-python.pkg.dev/colab-wheels/public/simple/\n",
            "Requirement already satisfied: bs4 in /usr/local/lib/python3.8/dist-packages (0.0.1)\n",
            "Requirement already satisfied: beautifulsoup4 in /usr/local/lib/python3.8/dist-packages (from bs4) (4.6.3)\n"
          ]
        }
      ],
      "source": [
        "!pip install bs4"
      ]
    },
    {
      "cell_type": "code",
      "source": [
        "import requests as req\n",
        "from bs4 import BeautifulSoup as bs\n"
      ],
      "metadata": {
        "id": "AuuaIVMfZNJV"
      },
      "execution_count": null,
      "outputs": []
    },
    {
      "cell_type": "markdown",
      "source": [],
      "metadata": {
        "id": "nUeNq424qxbN"
      }
    },
    {
      "cell_type": "code",
      "source": [
        "# 네이버 금융 url\n",
        "url = \"https://finance.naver.com/\"\n",
        "\n",
        "# requests 모듈을 이용해 url의 html을 text화한 후 변수로 저장\n",
        "html = req.get(url)\n",
        "html_txt = html.text\n",
        "\n",
        "#print(html_txt)"
      ],
      "metadata": {
        "id": "-PZWZfoVZup7"
      },
      "execution_count": null,
      "outputs": []
    },
    {
      "cell_type": "code",
      "source": [
        "#beautifulsoup를 이용해 html.parser로 보기 좋게 text 변환하기\n",
        "soup = bs(html_txt, \"html.parser\")\n",
        "\n",
        "#주어진 url에서 selector를 copy해온 뒤 사용\n",
        "increase_rank = soup.select(\"#_topItems2\")\n",
        "#print(increase_rank)\n",
        "\n",
        "import re\n",
        "share_list = []\n",
        "# 주식명, url, 현재가격, 상승폭 데이터 수집 (Top 10)\n",
        "for i in range(1,11):\n",
        "  selector = \"#_topItems2 > tr:nth-of-type(%d)\" % i\n",
        "  share_info = soup.select_one(selector).get_text().strip().split(\"\\n\")\n",
        "  share_list.append(share_info)\n",
        "\n",
        "#print(share_list)\n",
        "\n",
        "# 주식 데이터 출력\n",
        "for rank, value in enumerate(share_list, start=1):\n",
        "  print(\"%d위 : %s\" % (rank, value[0]))\n",
        "  print(\"현재 가격 : %10s       상승폭 : %10s\\n\" % (value[1], value[3].strip()))\n"
      ],
      "metadata": {
        "colab": {
          "base_uri": "https://localhost:8080/"
        },
        "id": "ZokfdL0Sac1A",
        "outputId": "eea8afcf-07a0-46e4-d75a-87e4503774da"
      },
      "execution_count": null,
      "outputs": [
        {
          "output_type": "stream",
          "name": "stdout",
          "text": [
            "1위 : 피에스엠씨\n",
            "현재 가격 :      1,652       상승폭 :    +29.98%\n",
            "\n",
            "2위 : 소니드\n",
            "현재 가격 :      6,100       상승폭 :    +29.93%\n",
            "\n",
            "3위 : 코리아에셋투자증권\n",
            "현재 가격 :     10,730       상승폭 :    +29.90%\n",
            "\n",
            "4위 : KH 필룩스\n",
            "현재 가격 :        805       상승폭 :    +28.18%\n",
            "\n",
            "5위 : 브레인즈컴퍼니\n",
            "현재 가격 :     14,060       상승폭 :    +25.54%\n",
            "\n",
            "6위 : 아이크래프트\n",
            "현재 가격 :      4,465       상승폭 :    +25.07%\n",
            "\n",
            "7위 : 미래에셋 S&P -2X 천연가스 선물 ETN(H)\n",
            "현재 가격 :     68,125       상승폭 :    +23.61%\n",
            "\n",
            "8위 : 이루다\n",
            "현재 가격 :      7,440       상승폭 :    +23.38%\n",
            "\n",
            "9위 : 클리노믹스\n",
            "현재 가격 :      9,290       상승폭 :    +20.81%\n",
            "\n",
            "10위 : 윈텍\n",
            "현재 가격 :      4,330       상승폭 :    +20.61%\n",
            "\n"
          ]
        }
      ]
    }
  ]
}