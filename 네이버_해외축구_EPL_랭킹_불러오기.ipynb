{
  "cells": [
    {
      "cell_type": "markdown",
      "metadata": {
        "id": "view-in-github",
        "colab_type": "text"
      },
      "source": [
        "<a href=\"https://colab.research.google.com/github/thisis05/DA-with-Python/blob/main/%EB%84%A4%EC%9D%B4%EB%B2%84_%ED%95%B4%EC%99%B8%EC%B6%95%EA%B5%AC_EPL_%EB%9E%AD%ED%82%B9_%EB%B6%88%EB%9F%AC%EC%98%A4%EA%B8%B0.ipynb\" target=\"_parent\"><img src=\"https://colab.research.google.com/assets/colab-badge.svg\" alt=\"Open In Colab\"/></a>"
      ]
    },
    {
      "cell_type": "code",
      "execution_count": null,
      "id": "25b20e1e",
      "metadata": {
        "id": "25b20e1e",
        "outputId": "6ead7159-f487-40ed-ffab-bb50c0500534"
      },
      "outputs": [
        {
          "name": "stdout",
          "output_type": "stream",
          "text": [
            "Requirement already satisfied: selenium in /Users/a05/opt/anaconda3/envs/DAwithPY/lib/python3.10/site-packages (4.8.0)\n",
            "Requirement already satisfied: certifi>=2021.10.8 in /Users/a05/opt/anaconda3/envs/DAwithPY/lib/python3.10/site-packages (from selenium) (2022.12.7)\n",
            "Requirement already satisfied: urllib3[socks]~=1.26 in /Users/a05/opt/anaconda3/envs/DAwithPY/lib/python3.10/site-packages (from selenium) (1.26.13)\n",
            "Requirement already satisfied: trio~=0.17 in /Users/a05/opt/anaconda3/envs/DAwithPY/lib/python3.10/site-packages (from selenium) (0.22.0)\n",
            "Requirement already satisfied: trio-websocket~=0.9 in /Users/a05/opt/anaconda3/envs/DAwithPY/lib/python3.10/site-packages (from selenium) (0.9.2)\n",
            "Requirement already satisfied: sortedcontainers in /Users/a05/opt/anaconda3/envs/DAwithPY/lib/python3.10/site-packages (from trio~=0.17->selenium) (2.4.0)\n",
            "Requirement already satisfied: outcome in /Users/a05/opt/anaconda3/envs/DAwithPY/lib/python3.10/site-packages (from trio~=0.17->selenium) (1.2.0)\n",
            "Requirement already satisfied: idna in /Users/a05/opt/anaconda3/envs/DAwithPY/lib/python3.10/site-packages (from trio~=0.17->selenium) (3.4)\n",
            "Requirement already satisfied: exceptiongroup>=1.0.0rc9 in /Users/a05/opt/anaconda3/envs/DAwithPY/lib/python3.10/site-packages (from trio~=0.17->selenium) (1.1.0)\n",
            "Requirement already satisfied: async-generator>=1.9 in /Users/a05/opt/anaconda3/envs/DAwithPY/lib/python3.10/site-packages (from trio~=0.17->selenium) (1.10)\n",
            "Requirement already satisfied: sniffio in /Users/a05/opt/anaconda3/envs/DAwithPY/lib/python3.10/site-packages (from trio~=0.17->selenium) (1.2.0)\n",
            "Requirement already satisfied: attrs>=19.2.0 in /Users/a05/opt/anaconda3/envs/DAwithPY/lib/python3.10/site-packages (from trio~=0.17->selenium) (22.1.0)\n",
            "Requirement already satisfied: wsproto>=0.14 in /Users/a05/opt/anaconda3/envs/DAwithPY/lib/python3.10/site-packages (from trio-websocket~=0.9->selenium) (1.2.0)\n",
            "Requirement already satisfied: PySocks!=1.5.7,<2.0,>=1.5.6 in /Users/a05/opt/anaconda3/envs/DAwithPY/lib/python3.10/site-packages (from urllib3[socks]~=1.26->selenium) (1.7.1)\n",
            "Requirement already satisfied: h11<1,>=0.9.0 in /Users/a05/opt/anaconda3/envs/DAwithPY/lib/python3.10/site-packages (from wsproto>=0.14->trio-websocket~=0.9->selenium) (0.14.0)\n",
            "Note: you may need to restart the kernel to use updated packages.\n"
          ]
        }
      ],
      "source": [
        "pip install selenium"
      ]
    },
    {
      "cell_type": "code",
      "execution_count": null,
      "id": "40cce0a1",
      "metadata": {
        "id": "40cce0a1",
        "outputId": "6360d626-c2b2-44d4-9e8a-cc0b9efd114a"
      },
      "outputs": [
        {
          "name": "stdout",
          "output_type": "stream",
          "text": [
            "Requirement already satisfied: bs4 in /Users/a05/opt/anaconda3/envs/DAwithPY/lib/python3.10/site-packages (0.0.1)\n",
            "Requirement already satisfied: beautifulsoup4 in /Users/a05/opt/anaconda3/envs/DAwithPY/lib/python3.10/site-packages (from bs4) (4.11.1)\n",
            "Requirement already satisfied: soupsieve>1.2 in /Users/a05/opt/anaconda3/envs/DAwithPY/lib/python3.10/site-packages (from beautifulsoup4->bs4) (2.3.2.post1)\n",
            "Note: you may need to restart the kernel to use updated packages.\n"
          ]
        }
      ],
      "source": [
        "pip install bs4"
      ]
    },
    {
      "cell_type": "code",
      "execution_count": null,
      "id": "54d19ebd",
      "metadata": {
        "id": "54d19ebd"
      },
      "outputs": [],
      "source": [
        "from selenium import webdriver as wd\n",
        "import requests \n",
        "from bs4 import BeautifulSoup as bs\n",
        "from datetime import datetime as dt"
      ]
    },
    {
      "cell_type": "code",
      "execution_count": null,
      "id": "26ca8d7b",
      "metadata": {
        "id": "26ca8d7b",
        "outputId": "e50a4305-b1ca-4883-9936-32c243f3c2b6"
      },
      "outputs": [
        {
          "name": "stderr",
          "output_type": "stream",
          "text": [
            "/var/folders/g_/dk3yfcbs6kg3ppmw05fqnl2h0000gn/T/ipykernel_69291/3196048842.py:3: DeprecationWarning: executable_path has been deprecated, please pass in a Service object\n",
            "  driver = wd.Chrome(path)\n"
          ]
        },
        {
          "name": "stdout",
          "output_type": "stream",
          "text": [
            "EPL 순위표 (2023년 02월 01일)\n",
            "\n",
            "1위 : 아스널 FC\n",
            "2위 : 맨체스터 시티 FC\n",
            "3위 : 뉴캐슬 유나이티드 FC\n",
            "4위 : 맨체스터 유나이티드 FC\n",
            "5위 : 토트넘 홋스퍼 FC\n",
            "6위 : 브라이튼 앤 호브 알비온 FC\n",
            "7위 : 풀럼 FC\n",
            "8위 : 브렌트포드 FC\n",
            "9위 : 리버풀 FC\n",
            "10위 : 첼시 FC\n",
            "11위 : 아스톤 빌라 FC\n",
            "12위 : 크리스탈 팰리스 FC\n",
            "13위 : 노팅엄 포레스트 FC\n",
            "14위 : 레스터 시티 FC\n",
            "15위 : 리즈 유나이티드 FC\n",
            "16위 : 웨스트햄 유나이티드 FC\n",
            "17위 : 울버햄튼 원더러스 FC\n",
            "18위 : AFC 본머스\n",
            "19위 : 에버턴 FC\n",
            "20위 : 사우샘프턴 FC\n"
          ]
        }
      ],
      "source": [
        "\n",
        "\n",
        "# Chrome driver 설치 경로\n",
        "path = \"/Users/a05/Desktop/파이썬 데이터분석/입문/7. 웹크롤링/chromedriver.exec\"\n",
        "driver = wd.Chrome(path)\n",
        "\n",
        "# 네이버 해외축구 순위 url\n",
        "EPL_url = \"https://sports.news.naver.com/wfootball/record/index\"\n",
        "driver.get(EPL_url)\n",
        "\n",
        "soup = bs(driver.page_source, \"html.parser\")\n",
        "\n",
        "print(dt.today().strftime(\"EPL 순위표 (%Y년 %m월 %d일)\"))\n",
        "print(\"\")\n",
        "\n",
        "for i in range(1,21):\n",
        "    team= soup.select_one(\"#wfootballTeamRecordBody > table > tbody > tr:nth-child(%d) > td.align_l > div > span.name\" % i).string\n",
        "    print(\"%d위 : %s\" % (i, team))\n",
        "\n",
        "#wfootballTeamRecordBody > table > tbody > tr:nth-child(1) > td.align_l > div > span.name"
      ]
    },
    {
      "cell_type": "code",
      "execution_count": null,
      "id": "534ffdd3",
      "metadata": {
        "id": "534ffdd3"
      },
      "outputs": [],
      "source": []
    }
  ],
  "metadata": {
    "kernelspec": {
      "display_name": "Python 3 (ipykernel)",
      "language": "python",
      "name": "python3"
    },
    "language_info": {
      "codemirror_mode": {
        "name": "ipython",
        "version": 3
      },
      "file_extension": ".py",
      "mimetype": "text/x-python",
      "name": "python",
      "nbconvert_exporter": "python",
      "pygments_lexer": "ipython3",
      "version": "3.10.8"
    },
    "colab": {
      "provenance": [],
      "include_colab_link": true
    }
  },
  "nbformat": 4,
  "nbformat_minor": 5
}